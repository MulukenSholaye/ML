{
 "cells": [
  {
   "cell_type": "code",
   "execution_count": 2,
   "metadata": {},
   "outputs": [
    {
     "name": "stdout",
     "output_type": "stream",
     "text": [
      "[[ 7384    37     2     0     0]\n",
      " [   13 10578    43    22     1]\n",
      " [    6    53  1880     0     1]\n",
      " [    3   124     1   221     1]\n",
      " [    0    12     1     1    12]]\n",
      "Accuracy: 0.9842616199254756\n",
      "              precision    recall  f1-score   support\n",
      "\n",
      "           0       1.00      0.99      1.00      7423\n",
      "           1       0.98      0.99      0.99     10657\n",
      "           2       0.98      0.97      0.97      1940\n",
      "           3       0.91      0.63      0.74       350\n",
      "           4       0.80      0.46      0.59        26\n",
      "\n",
      "    accuracy                           0.98     20396\n",
      "   macro avg       0.93      0.81      0.86     20396\n",
      "weighted avg       0.98      0.98      0.98     20396\n",
      "\n",
      "Accuracy of the Model :  0.9842616199254756\n"
     ]
    }
   ],
   "source": [
    "from sklearn import svm\n",
    "import pandas as pd\n",
    "import numpy as np\n",
    "from sklearn.model_selection import train_test_split\n",
    "from sklearn.preprocessing import StandardScaler\n",
    "from sklearn import preprocessing\n",
    "from sklearn.metrics import confusion_matrix, accuracy_score\n",
    "from sklearn.model_selection import train_test_split\n",
    "from sklearn import metrics\n",
    "from sklearn.tree import DecisionTreeClassifier\n",
    "\n",
    "a = pd.read_csv(\"intrusion_data_combined.csv\",sep=\",\", header=0)\n",
    "\n",
    "\n",
    "label_encoder = preprocessing.LabelEncoder()\n",
    "a['protocol_type']= label_encoder.fit_transform(a['protocol_type'])  \n",
    "a['service']= label_encoder.fit_transform(a['service'])  \n",
    "a['flag']= label_encoder.fit_transform(a['flag'])  \n",
    "a['flag']= label_encoder.fit_transform(a['flag'])\n",
    "a['xAttack']= label_encoder.fit_transform(a['xAttack'])  \n",
    "\n",
    "\n",
    "X = a.iloc[:, :-2].values\n",
    "y = a.iloc[:, -1].values\n",
    "\n",
    "X_train, X_test, y_train, y_test = train_test_split(X, y, test_size = 0.15, random_state = 0)\n",
    "sc = StandardScaler()\n",
    "X_train = sc.fit_transform(X_train)\n",
    "X_test = sc.transform(X_test)\n",
    "\n",
    "classifier = svm.SVC()\n",
    "classifier.fit(X_train,y_train)\n",
    "\n",
    "y_pred = classifier.predict(X_test)\n",
    "\n",
    "ac = accuracy_score(y_test,y_pred)\n",
    "cm = confusion_matrix(y_test, y_pred)\n",
    "#print(ac)\n",
    "#print(cm)\n",
    "print(confusion_matrix(y_test, y_pred))\n",
    "print(\"Accuracy:\",metrics.accuracy_score(y_test,y_pred)) \n",
    "print(metrics.classification_report(y_test,y_pred))\n",
    "print(\"Accuracy of the Model : \" , ac)"
   ]
  },
  {
   "cell_type": "code",
   "execution_count": null,
   "metadata": {},
   "outputs": [],
   "source": []
  }
 ],
 "metadata": {
  "kernelspec": {
   "display_name": "Python 3",
   "language": "python",
   "name": "python3"
  },
  "language_info": {
   "codemirror_mode": {
    "name": "ipython",
    "version": 3
   },
   "file_extension": ".py",
   "mimetype": "text/x-python",
   "name": "python",
   "nbconvert_exporter": "python",
   "pygments_lexer": "ipython3",
   "version": "3.8.3"
  }
 },
 "nbformat": 4,
 "nbformat_minor": 4
}
